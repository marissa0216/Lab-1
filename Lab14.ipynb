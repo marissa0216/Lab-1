{
  "nbformat": 4,
  "nbformat_minor": 0,
  "metadata": {
    "colab": {
      "provenance": []
    },
    "kernelspec": {
      "name": "python3",
      "display_name": "Python 3"
    },
    "language_info": {
      "name": "python"
    }
  },
  "cells": [
    {
      "cell_type": "markdown",
      "source": [
        "#Tittle\n",
        "Respiratory Physiology\n"
      ],
      "metadata": {
        "id": "TgDU4OTBWpyt"
      }
    },
    {
      "cell_type": "markdown",
      "source": [
        "#Purpose\n",
        "The lung capacities of tidal volume, vital capacity, inspiratory\n",
        "capacity, inspiratory reserve volume, expiratory capacity and expiratory reserve volume will be recorded for student volunteers. The timed vital capacity (TVC) or forced expiratory volume (FEVT) will also be calculated for these students. The students will be introduced to the use and theory behind incentive inspiratory devices and a portable spirometer. Impedance pneumography, the measurement of ventilation rates by recording\n",
        "the changing impedance of an expanding and contracting thorax, may be demonstrated."
      ],
      "metadata": {
        "id": "8Y3fVt6VYGUa"
      }
    },
    {
      "cell_type": "markdown",
      "source": [
        "#Procedure\n",
        "In this laboratory, the lung capacities of the tidal volume, vital capacity, inspiratory capacity, inspiratory reserve volume, expiratory capacity and expiratory reserve volume will be recorded for student volunteers. The time vital capacity (TVC) or forced expiratory volume (FEV T) will also be calculated for these students. The students will be introduced to the use and theory behind incentive inspiratory devices and a portable spirometer. Impedance pneumography, the measurement of ventitlation rates by recording the changing impedance of an expanding and contracting thorax, may beb demonstrated."
      ],
      "metadata": {
        "id": "aY8BVsWNYjCH"
      }
    },
    {
      "cell_type": "code",
      "source": [
        "# import packages\n",
        "import statistics\n",
        "import pandas as pd\n",
        "import scipy.stats as stats\n",
        "from scipy.stats import sem\n",
        "from statistics import mean, stdev\n",
        "import matplotlib.pyplot as plt\n",
        "import numpy as np\n",
        "#include if using a jupyter notebook, remove if using a .py file\n",
        "%matplotlib inline"
      ],
      "metadata": {
        "id": "lkr4vjHyMqCk"
      },
      "execution_count": null,
      "outputs": []
    },
    {
      "cell_type": "code",
      "source": [
        "f_vc = [2.7, 3.7, 3.2, 3.45, 3.2, 3.1]\n",
        "m_vc = [3.3, 4.5, 3.7]\n",
        "\n",
        "#Display the data\n",
        "f_vc, m_vc\n",
        "\n",
        "([2.7, 3.7, 3.2, 3.45, 3.2, 3.1], [3.3, 4.5, 3.7])\n"
      ],
      "metadata": {
        "colab": {
          "base_uri": "https://localhost:8080/"
        },
        "id": "LxJqpogJMspX",
        "outputId": "bdd0e368-4d24-4245-9c0f-e38bbb8f1e76"
      },
      "execution_count": null,
      "outputs": [
        {
          "output_type": "execute_result",
          "data": {
            "text/plain": [
              "([2.7, 3.7, 3.2, 3.45, 3.2, 3.1], [3.3, 4.5, 3.7])"
            ]
          },
          "metadata": {},
          "execution_count": 10
        }
      ]
    },
    {
      "cell_type": "code",
      "source": [
        "#Calculate the SEM of data\n",
        "fvc_mean = mean(f_vc)\n",
        "mvc_mean = mean(m_vc)\n",
        "\n",
        "#Display the means\n",
        "fvc_mean, mvc_mean"
      ],
      "metadata": {
        "id": "KZLPmlIHRjfN"
      },
      "execution_count": null,
      "outputs": []
    },
    {
      "cell_type": "code",
      "source": [
        "#Calculate the SEM of data\n",
        "fvc_sem = sem(f_vc)\n",
        "mvc_sem = sem(m_vc)\n",
        "\n",
        "#Display the means\n",
        "fvc_sem, mvc_sem"
      ],
      "metadata": {
        "colab": {
          "base_uri": "https://localhost:8080/"
        },
        "id": "-jSj21UuN0mD",
        "outputId": "d287a8af-e64d-4308-d604-3f12cb48704c"
      },
      "execution_count": null,
      "outputs": [
        {
          "output_type": "execute_result",
          "data": {
            "text/plain": [
              "(0.13768926368215256, 0.3527668414752788)"
            ]
          },
          "metadata": {},
          "execution_count": 11
        }
      ]
    },
    {
      "cell_type": "code",
      "source": [
        "plt.bar(['Male VC', 'Female VC'], [fvc_mean,mvc_mean], yerr=[fvc_sem, mvc_sem], capsize=10)\n",
        "plt.xlabel('Biological sex)')\n",
        "plt.ylabel('Vital Capacity (L)')\n",
        "plt.title('Vital Capacity Differences in Male vs Female')\n"
      ],
      "metadata": {
        "colab": {
          "base_uri": "https://localhost:8080/",
          "height": 489
        },
        "id": "Rydx1NNFO7NA",
        "outputId": "956f4154-24de-442d-b0b1-480882e8f24a"
      },
      "execution_count": null,
      "outputs": [
        {
          "output_type": "execute_result",
          "data": {
            "text/plain": [
              "Text(0.5, 1.0, 'Vital Capacity Differences in Male vs Female')"
            ]
          },
          "metadata": {},
          "execution_count": 14
        },
        {
          "output_type": "display_data",
          "data": {
            "text/plain": [
              "<Figure size 640x480 with 1 Axes>"
            ],
            "image/png": "[encoded data removed]"
          },
          "metadata": {}
        }
      ]
    },
    {
      "cell_type": "markdown",
      "source": [
        "#Discucion\n",
        "The movement of air in and out of the lungs is essential to maintain the important process of cellular respiration, the oxidation of nutrient molecules. The rhythmic inflation and deflation of the lungs (ventilation) simultaneously satisfies the continuous demands of cells for supply of oxygen and subsequent elimination of carbon dioxide. The volumes of air involved in pulmonary ventilation may be measured with a device known as a spirometer."
      ],
      "metadata": {
        "id": "3UTD1Vy_Z2TZ"
      }
    },
    {
      "cell_type": "markdown",
      "source": [
        "#Conclusion\n",
        "Be able to identify and give the function of each device used.\n",
        "Be able to identify the lung volum\n",
        "es and capacities recorded and know average values\n",
        "for each.\n",
        "Be able to explain the significance of the TVC or FEV T test.\n",
        "Be able to explain differences in predicted and actual VC measurements.\n",
        "Be able to explain the importance of the inspiratory incentive devices.\n",
        "Be able to explain the results of the impedance pneumography exercises"
      ],
      "metadata": {
        "id": "EPkLDPwhZ93N"
      }
    }
  ]
}